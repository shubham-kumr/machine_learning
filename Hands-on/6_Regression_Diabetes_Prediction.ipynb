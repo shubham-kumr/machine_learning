{
  "nbformat": 4,
  "nbformat_minor": 0,
  "metadata": {
    "colab": {
      "provenance": []
    },
    "kernelspec": {
      "name": "python3",
      "display_name": "Python 3"
    },
    "language_info": {
      "name": "python"
    }
  },
  "cells": [
    {
      "cell_type": "code",
      "execution_count": null,
      "metadata": {
        "colab": {
          "base_uri": "https://localhost:8080/"
        },
        "id": "ZqB4SUrz9Dwt",
        "outputId": "9e130b87-750b-4fdf-c960-145b99f908f6"
      },
      "outputs": [
        {
          "output_type": "stream",
          "name": "stdout",
          "text": [
            "Simple Linear Regression R² Score: 0.23335039815872138\n",
            "Multiple Linear Regression R² Score: 0.4526027629719195\n"
          ]
        }
      ],
      "source": [
        "import pandas as pd\n",
        "from sklearn.datasets import load_diabetes\n",
        "from sklearn.model_selection import train_test_split\n",
        "from sklearn.linear_model import LinearRegression\n",
        "from sklearn.metrics import r2_score\n",
        "\n",
        "# Load the diabetes dataset\n",
        "diabetes = load_diabetes()\n",
        "df = pd.DataFrame(data=diabetes.data, columns=diabetes.feature_names)\n",
        "df['target'] = diabetes.target\n",
        "\n",
        "# Split the data into training and testing sets\n",
        "X = df.drop(columns='target')\n",
        "y = df['target']\n",
        "X_train, X_test, y_train, y_test = train_test_split(X, y, test_size=0.2, random_state=42)\n",
        "\n",
        "# Simple Linear Regression (using only one feature, for example 'bmi')\n",
        "X_train_simple = X_train[['bmi']]\n",
        "X_test_simple = X_test[['bmi']]\n",
        "\n",
        "simple_model = LinearRegression()\n",
        "simple_model.fit(X_train_simple, y_train)\n",
        "y_pred_simple = simple_model.predict(X_test_simple)\n",
        "\n",
        "# Multiple Linear Regression (using all features)\n",
        "multiple_model = LinearRegression()\n",
        "multiple_model.fit(X_train, y_train)\n",
        "y_pred_multiple = multiple_model.predict(X_test)\n",
        "\n",
        "# Print R² score for both models\n",
        "print(\"Simple Linear Regression R² Score:\", r2_score(y_test, y_pred_simple))\n",
        "print(\"Multiple Linear Regression R² Score:\", r2_score(y_test, y_pred_multiple))\n"
      ]
    },
    {
      "cell_type": "code",
      "source": [],
      "metadata": {
        "id": "BLik91Cb96ij"
      },
      "execution_count": null,
      "outputs": []
    }
  ]
}